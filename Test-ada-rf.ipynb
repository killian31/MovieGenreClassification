{
 "cells": [
  {
   "cell_type": "code",
   "execution_count": 64,
   "id": "0a479cda",
   "metadata": {},
   "outputs": [],
   "source": [
    "import pandas as pd\n",
    "import numpy as np\n",
    "from sklearn.model_selection import train_test_split\n",
    "from sklearn.ensemble import AdaBoostClassifier, RandomForestClassifier\n",
    "from sklearn.preprocessing import StandardScaler\n",
    "from sklearn.decomposition import PCA\n",
    "from sklearn.metrics import accuracy_score"
   ]
  },
  {
   "cell_type": "code",
   "execution_count": 65,
   "id": "a68d06f5",
   "metadata": {},
   "outputs": [],
   "source": [
    "def add_pca_features(df, n_components=37):\n",
    "    embeddings = df.drop(\n",
    "        [\n",
    "            \"label\",\n",
    "            \"title\",\n",
    "            \"genre\",\n",
    "            \"description\",\n",
    "            \"description_t\",\n",
    "            \"first_token\",\n",
    "            \"last_token\",\n",
    "            \"embedding\",\n",
    "        ],\n",
    "        axis=1,\n",
    "    )\n",
    "    labels = df[\"genre\"]\n",
    "    scaler = StandardScaler()\n",
    "    scaler.fit(embeddings)\n",
    "    embeddings = scaler.transform(embeddings)\n",
    "\n",
    "    pca = PCA(n_components=n_components)\n",
    "    principalComponents = pca.fit_transform(embeddings)\n",
    "\n",
    "    print(\n",
    "        \"Cumulative explained variance:\", np.cumsum(pca.explained_variance_ratio_)[-1]\n",
    "    )\n",
    "\n",
    "    principalDf = pd.DataFrame(\n",
    "        data=principalComponents,\n",
    "        columns=[f\"pc_{i}\" for i in range(1, n_components + 1)],\n",
    "    )\n",
    "    labels = labels.reset_index(drop=True)\n",
    "    finalDf = pd.concat([principalDf, labels], axis=1)\n",
    "    return finalDf, pca"
   ]
  },
  {
   "cell_type": "code",
   "execution_count": 66,
   "id": "23358132",
   "metadata": {},
   "outputs": [],
   "source": [
    "def create_clustered_df(pca_df, n_clusters=8):\n",
    "\n",
    "    pca_mat = pca_df.drop(columns=[\"genre\"])\n",
    "    kmeans = KMeans(\n",
    "        n_clusters=n_clusters, init=\"random\", max_iter=300, n_init=10, random_state=29\n",
    "    )\n",
    "    kmeans.fit(pca_mat)\n",
    "    pca_df[\"cluster\"] = kmeans.labels_\n",
    "\n",
    "    return pca_df"
   ]
  },
  {
   "cell_type": "code",
   "execution_count": 37,
   "id": "c6de9f9d",
   "metadata": {},
   "outputs": [],
   "source": [
    "random_state=42\n",
    "\n",
    "X_original = pca_df.drop(\"genre\", axis=1)\n",
    "y = pca_df[\"genre\"]\n",
    "\n",
    "# Split data into train and test sets\n",
    "X_train, X_test, y_train, y_test = train_test_split(\n",
    "    X_original, y, test_size=0.2, random_state=random_state\n",
    "    )\n",
    "# Reset indexes to align correctly after splitting\n",
    "y_train = y_train.reset_index(drop=True)\n",
    "y_test = y_test.reset_index(drop=True)"
   ]
  },
  {
   "cell_type": "code",
   "execution_count": 74,
   "id": "ca0209e0",
   "metadata": {},
   "outputs": [
    {
     "name": "stdout",
     "output_type": "stream",
     "text": [
      "Hyperparameters: (500, 0.2) \t\t Accuracy: 0.59\n",
      "Hyperparameters: (500, 0.1) \t\t Accuracy: 0.579\n",
      "Hyperparameters: (200, 0.2) \t\t Accuracy: 0.574\n",
      "Hyperparameters: (500, 0.05) \t\t Accuracy: 0.557\n",
      "Hyperparameters: (100, 0.2) \t\t Accuracy: 0.549\n",
      "Hyperparameters: (200, 0.1) \t\t Accuracy: 0.549\n",
      "Hyperparameters: (100, 0.1) \t\t Accuracy: 0.523\n",
      "Hyperparameters: (200, 0.05) \t\t Accuracy: 0.523\n",
      "Hyperparameters: (100, 0.05) \t\t Accuracy: 0.493\n"
     ]
    }
   ],
   "source": [
    "n_e = [100, 200, 500]\n",
    "l_r = [0.05, 0.1, 0.2]\n",
    "\n",
    "\n",
    "hyperparams = []\n",
    "accuracies = []\n",
    "\n",
    "for i in n_e:\n",
    "\n",
    "    for j in l_r:\n",
    "    \n",
    "        hyperparams.append((i,j))\n",
    "    \n",
    "        model = AdaBoostClassifier(n_estimators=i, learning_rate=j, random_state=0)\n",
    "    \n",
    "        model.fit(X_train, y_train)     \n",
    "    \n",
    "        y_pred = model.predict(X_test)\n",
    "        accuracies.append(accuracy_score(y_test, y_pred))\n",
    "    \n",
    "    best_param = [(hyperparams, round(accuracy, 3)) for hyperparams, accuracy in zip(hyperparams, accuracies)]\n",
    "    \n",
    "    best_param = sorted(best_param, key = lambda x: x[1], reverse = True)\n",
    "    \n",
    "[print('Hyperparameters: {} \\t\\t Accuracy: {}'.format(*i)) for i in best_param];\n"
   ]
  },
  {
   "cell_type": "code",
   "execution_count": 61,
   "id": "cf97b0e6",
   "metadata": {},
   "outputs": [
    {
     "name": "stdout",
     "output_type": "stream",
     "text": [
      "0.3564134844034131\n",
      "0.3564134844034131\n",
      "[((100, 20), 0.601), ((100, 10), 0.566)]\n",
      "0.3564134844034131\n",
      "0.3564134844034131\n",
      "[((200, 20), 0.602), ((100, 20), 0.601), ((100, 10), 0.566), ((200, 10), 0.566)]\n",
      "Hyperparameters: (200, 20) \t\t CV_Score: 0.602\n",
      "Hyperparameters: (100, 20) \t\t CV_Score: 0.601\n",
      "Hyperparameters: (100, 10) \t\t CV_Score: 0.566\n",
      "Hyperparameters: (200, 10) \t\t CV_Score: 0.566\n",
      "1\n"
     ]
    }
   ],
   "source": [
    "n_e = [100, 200]\n",
    "m_d = [10, 20]\n",
    "\n",
    "\n",
    "\n",
    "hyperparams = []\n",
    "accuracies = []\n",
    "\n",
    "for i in n_e:\n",
    "\n",
    "    for j in m_d:\n",
    "    \n",
    "        hyperparams.append((i,j))\n",
    "    \n",
    "        model = RandomForestClassifier(n_estimators=i, max_depth=j, random_state=0)\n",
    "    \n",
    "        model.fit(X_train, y_train)     \n",
    "        \n",
    "        y_pred = model.predict(X_test)\n",
    "    \n",
    "        accuracies.append(accuracy_score(y_test, y_pred))\n",
    "\n",
    "    best_param = [(hyperparams, round(accuracy, 3)) for hyperparams, accuracy in zip(hyperparams, accuracies)]\n",
    "    \n",
    "    best_param = sorted(best_param, key = lambda x: x[1], reverse = True)\n",
    "    \n",
    "[print('Hyperparameters: {} \\t\\t Accuracy: {}'.format(*i)) for i in best_param]\n",
    "print(1)"
   ]
  },
  {
   "cell_type": "code",
   "execution_count": null,
   "id": "e7ab0029",
   "metadata": {},
   "outputs": [],
   "source": []
  },
  {
   "cell_type": "code",
   "execution_count": null,
   "id": "0b64fe27",
   "metadata": {},
   "outputs": [],
   "source": []
  }
 ],
 "metadata": {
  "kernelspec": {
   "display_name": "Python 3 (ipykernel)",
   "language": "python",
   "name": "python3"
  },
  "language_info": {
   "codemirror_mode": {
    "name": "ipython",
    "version": 3
   },
   "file_extension": ".py",
   "mimetype": "text/x-python",
   "name": "python",
   "nbconvert_exporter": "python",
   "pygments_lexer": "ipython3",
   "version": "3.9.3"
  }
 },
 "nbformat": 4,
 "nbformat_minor": 5
}
